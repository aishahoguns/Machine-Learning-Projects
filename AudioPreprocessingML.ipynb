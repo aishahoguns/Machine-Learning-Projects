{
 "cells": [
  {
   "cell_type": "code",
   "execution_count": 1,
   "id": "fc4c0544-deb6-49b4-a561-6b09a57cb83e",
   "metadata": {},
   "outputs": [],
   "source": [
    "import numpy as np\n",
    "import tensorflow as tf"
   ]
  },
  {
   "cell_type": "code",
   "execution_count": 2,
   "id": "23ec00c4-1d4d-4b82-b5fc-cd5f7363d369",
   "metadata": {},
   "outputs": [],
   "source": [
    "train_data = np.load('Audiobooks_data_train_1.npz')\n",
    "validation_data = np.load('Audiobooks_data_validation_1.npz')\n",
    "test_data= np.load('Audiobooks_data_test_1.npz')"
   ]
  },
  {
   "cell_type": "code",
   "execution_count": null,
   "id": "feae6a79-c692-462d-b9d4-2bc10881ab00",
   "metadata": {},
   "outputs": [],
   "source": []
  },
  {
   "cell_type": "code",
   "execution_count": 3,
   "id": "e59f675e-29c7-4618-bb63-d10aca95b5d6",
   "metadata": {},
   "outputs": [],
   "source": [
    "train_inputs = train_data['inputs'].astype(float)\n",
    "train_targets = train_data['targets'].astype(int)\n",
    "validation_inputs = validation_data['inputs'].astype(float)\n",
    "validation_targets = validation_data['targets'].astype(int)\n",
    "test_inputs = test_data['inputs'].astype(float)\n",
    "test_targets = test_data['targets'].astype(int)"
   ]
  },
  {
   "cell_type": "code",
   "execution_count": null,
   "id": "7fc3409a-fc19-4848-ab74-6d4b8935332f",
   "metadata": {},
   "outputs": [],
   "source": []
  },
  {
   "cell_type": "code",
   "execution_count": 6,
   "id": "bcee437b-ef8d-4d60-acd2-b34085868309",
   "metadata": {},
   "outputs": [],
   "source": [
    "###Model"
   ]
  },
  {
   "cell_type": "code",
   "execution_count": 23,
   "id": "f714f6f4-b9ea-4e03-8368-81bdd201a649",
   "metadata": {},
   "outputs": [],
   "source": [
    "input_size = 10\n",
    "output_size = 2\n",
    "hidden_layer_size = 150\n",
    "\n",
    "model = tf.keras.Sequential([\n",
    "                            tf.keras.layers.Dense(hidden_layer_size, activation = 'elu'),\n",
    "                            tf.keras.layers.Dense(hidden_layer_size, activation = 'elu'),\n",
    "    tf.keras.layers.Dense(hidden_layer_size, activation = 'elu'),\n",
    "    tf.keras.layers.Dense(hidden_layer_size, activation = 'elu'),\n",
    "    tf.keras.layers.Dense(hidden_layer_size, activation = 'elu'),\n",
    "    tf.keras.layers.Dense(hidden_layer_size, activation = 'elu'),\n",
    "    tf.keras.layers.Dense(hidden_layer_size, activation = 'elu'),\n",
    "    tf.keras.layers.Dense(hidden_layer_size, activation = 'elu'),\n",
    "                            tf.keras.layers.Dense(output_size, activation = 'softmax'),\n",
    "                                                  ])\n"
   ]
  },
  {
   "cell_type": "code",
   "execution_count": 24,
   "id": "d68e5bb9-8a2d-489d-9921-c8c250b22886",
   "metadata": {},
   "outputs": [],
   "source": [
    "###Optimizer,Objectivefunction"
   ]
  },
  {
   "cell_type": "code",
   "execution_count": 29,
   "id": "87d03096-6226-4983-9862-bd1d9dd59a51",
   "metadata": {},
   "outputs": [],
   "source": [
    "  # Set your desired learning rate\n",
    "optimizer = tf.keras.optimizers.Adam()"
   ]
  },
  {
   "cell_type": "code",
   "execution_count": 30,
   "id": "10a7b7d0-34e1-4b85-90ce-a76c583ce047",
   "metadata": {},
   "outputs": [],
   "source": [
    "model.compile(optimizer=optimizer,loss = 'sparse_categorical_crossentropy', metrics = ['accuracy'])"
   ]
  },
  {
   "cell_type": "code",
   "execution_count": 10,
   "id": "5ac1b4d3-6d2a-41f9-a6d2-b28be468f65b",
   "metadata": {},
   "outputs": [],
   "source": [
    "###Training"
   ]
  },
  {
   "cell_type": "code",
   "execution_count": 34,
   "id": "54236569-6494-441c-a4b3-2af5a5a17432",
   "metadata": {},
   "outputs": [],
   "source": [
    "batch_size = 50\n",
    "max_epoch = 100\n",
    "early_stopping = tf.keras.callbacks.EarlyStopping(patience = 2)\n"
   ]
  },
  {
   "cell_type": "code",
   "execution_count": 35,
   "id": "46076721-eb58-4862-b333-f5e132b41660",
   "metadata": {},
   "outputs": [
    {
     "name": "stdout",
     "output_type": "stream",
     "text": [
      "Epoch 1/100\n",
      "72/72 - 1s - loss: 0.3281 - accuracy: 0.8111 - val_loss: 0.2902 - val_accuracy: 0.8255 - 578ms/epoch - 8ms/step\n",
      "Epoch 2/100\n",
      "72/72 - 0s - loss: 0.3363 - accuracy: 0.7997 - val_loss: 0.2985 - val_accuracy: 0.7964 - 393ms/epoch - 5ms/step\n",
      "Epoch 3/100\n",
      "72/72 - 0s - loss: 0.3310 - accuracy: 0.8072 - val_loss: 0.2972 - val_accuracy: 0.8166 - 410ms/epoch - 6ms/step\n"
     ]
    }
   ],
   "source": [
    "history = model.fit(train_inputs,\n",
    "          train_targets,\n",
    "          batch_size=batch_size,\n",
    "          epochs = max_epoch,\n",
    "          callbacks = [early_stopping],\n",
    "          validation_data = (validation_inputs,validation_targets),\n",
    "          verbose=2)\n",
    "          "
   ]
  },
  {
   "cell_type": "code",
   "execution_count": null,
   "id": "4ee9bfdc-209f-4650-a7d3-427e6acff41f",
   "metadata": {},
   "outputs": [],
   "source": []
  },
  {
   "cell_type": "code",
   "execution_count": null,
   "id": "f7e2980c-ecc8-490c-9c1e-2526cd77f5ab",
   "metadata": {},
   "outputs": [],
   "source": []
  },
  {
   "cell_type": "code",
   "execution_count": null,
   "id": "d9a86b8a-1138-404d-b749-f12320654823",
   "metadata": {},
   "outputs": [],
   "source": [
    "## Test"
   ]
  },
  {
   "cell_type": "code",
   "execution_count": 36,
   "id": "976273d5-6193-432b-aa31-fe3cf45f37a9",
   "metadata": {},
   "outputs": [
    {
     "name": "stdout",
     "output_type": "stream",
     "text": [
      "14/14 [==============================] - 0s 5ms/step - loss: 0.3165 - accuracy: 0.8080\n"
     ]
    }
   ],
   "source": [
    "test_loss,test_accuracy = model.evaluate(test_inputs, test_targets)"
   ]
  },
  {
   "cell_type": "code",
   "execution_count": null,
   "id": "774ca314-f9c6-4ab9-b30c-269201611674",
   "metadata": {},
   "outputs": [],
   "source": []
  }
 ],
 "metadata": {
  "kernelspec": {
   "display_name": "Python 3 (ipykernel)",
   "language": "python",
   "name": "python3"
  },
  "language_info": {
   "codemirror_mode": {
    "name": "ipython",
    "version": 3
   },
   "file_extension": ".py",
   "mimetype": "text/x-python",
   "name": "python",
   "nbconvert_exporter": "python",
   "pygments_lexer": "ipython3",
   "version": "3.10.13"
  }
 },
 "nbformat": 4,
 "nbformat_minor": 5
}
