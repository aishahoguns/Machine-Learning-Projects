{
 "cells": [
  {
   "cell_type": "code",
   "execution_count": 109,
   "id": "518ab1f7-319f-49db-9c90-206dee217d54",
   "metadata": {},
   "outputs": [],
   "source": [
    "import tensorflow as tf"
   ]
  },
  {
   "cell_type": "code",
   "execution_count": 110,
   "id": "e219984d-e331-4538-b9d5-423f91fdf433",
   "metadata": {},
   "outputs": [],
   "source": [
    "import tensorflow_datasets as tfds"
   ]
  },
  {
   "cell_type": "code",
   "execution_count": 111,
   "id": "85bbdb2c-7786-4908-ab8d-f8c903f9bd49",
   "metadata": {},
   "outputs": [],
   "source": [
    "import numpy as np"
   ]
  },
  {
   "cell_type": "markdown",
   "id": "f30bd957-9f51-4267-b15e-a7133b2bc62c",
   "metadata": {},
   "source": [
    "Data Spliting: Train, Validation, Test"
   ]
  },
  {
   "cell_type": "code",
   "execution_count": 112,
   "id": "74bbfd2a-763c-4196-aba5-7c34d7c18932",
   "metadata": {},
   "outputs": [],
   "source": [
    "mnist_train, mnist_test = mnist_data['train'], mnist_data['test']"
   ]
  },
  {
   "cell_type": "code",
   "execution_count": 113,
   "id": "9ba8b84d-ac8a-46e5-8ce4-388ce86b7f8b",
   "metadata": {},
   "outputs": [],
   "source": [
    "num_validation_samples = 0.1* mnist_info.splits['train'].num_examples"
   ]
  },
  {
   "cell_type": "code",
   "execution_count": 114,
   "id": "dca8c82a-a080-4adf-837d-78864da7510b",
   "metadata": {},
   "outputs": [],
   "source": [
    "num_validation_samples = tf.cast(num_validation_samples, tf.int64)"
   ]
  },
  {
   "cell_type": "code",
   "execution_count": 115,
   "id": "0d637c71-d8bf-4fe8-ba4f-4c52b6ed7ea1",
   "metadata": {},
   "outputs": [],
   "source": [
    "num_test_samples = mnist_info.splits['test'].num_examples"
   ]
  },
  {
   "cell_type": "code",
   "execution_count": 116,
   "id": "6b937d7a-36a1-4799-856a-89414cf74a05",
   "metadata": {},
   "outputs": [],
   "source": [
    "num_test_samples = tf.cast(num_test_samples, tf.int64)"
   ]
  },
  {
   "cell_type": "code",
   "execution_count": 117,
   "id": "d55df0ca-cc0c-48a9-a402-0d7ba64563b7",
   "metadata": {},
   "outputs": [],
   "source": [
    "def scale(image,label):\n",
    "    tf.cast(image, tf.float32)\n",
    "    image/=255\n",
    "    return image,label"
   ]
  },
  {
   "cell_type": "code",
   "execution_count": 118,
   "id": "d1d39379-1bff-49a9-bc8b-1d0cd6a687af",
   "metadata": {},
   "outputs": [],
   "source": [
    "scaled_train_and_validation_data = mnist_train.map(scale)\n",
    "scaled_test_data = mnist_test.map(scale)"
   ]
  },
  {
   "cell_type": "code",
   "execution_count": 119,
   "id": "c52490bd-5287-482d-81c8-b11add3fdc98",
   "metadata": {},
   "outputs": [],
   "source": [
    "BUFFER_SIZE = 10000"
   ]
  },
  {
   "cell_type": "code",
   "execution_count": 120,
   "id": "5df4357d-71a3-4178-aa7a-4ed09bcb1a53",
   "metadata": {},
   "outputs": [],
   "source": [
    "shuffled_train_and_validation_data = scaled_train_and_validation_data.shuffle(BUFFER_SIZE)"
   ]
  },
  {
   "cell_type": "code",
   "execution_count": 121,
   "id": "cdb449f5-3f3e-4371-81e3-bd58968fe221",
   "metadata": {},
   "outputs": [],
   "source": [
    "validation_data = shuffled_train_and_validation_data.take(num_validation_samples)"
   ]
  },
  {
   "cell_type": "code",
   "execution_count": 122,
   "id": "9a714ddc-5caf-4874-8b61-9d2eade951c6",
   "metadata": {},
   "outputs": [],
   "source": [
    "BATCH_SIZE = 100"
   ]
  },
  {
   "cell_type": "code",
   "execution_count": 123,
   "id": "cef8c096-cf9c-44af-935d-2bde938afd73",
   "metadata": {},
   "outputs": [],
   "source": [
    "train_data = shuffled_train_and_validation_data.skip(num_validation_samples)"
   ]
  },
  {
   "cell_type": "code",
   "execution_count": 124,
   "id": "8776e938-bd0e-4c7e-aeeb-51a7990ed657",
   "metadata": {},
   "outputs": [],
   "source": [
    "train_data =  train_data.batch(BATCH_SIZE)\n",
    "validation_data = validation_data.batch(num_validation_samples)\n",
    "test_data = scaled_test_data.batch(num_test_samples)"
   ]
  },
  {
   "cell_type": "code",
   "execution_count": 125,
   "id": "efd2cfd2-64c3-4b04-8d19-d60a8c2a3c0c",
   "metadata": {},
   "outputs": [],
   "source": [
    "validation_inputs, validation_targets = next(iter(validation_data))"
   ]
  },
  {
   "cell_type": "code",
   "execution_count": 27,
   "id": "af5a4465-7859-425e-bcde-c94cf991f086",
   "metadata": {},
   "outputs": [],
   "source": [
    "##Model"
   ]
  },
  {
   "cell_type": "code",
   "execution_count": 126,
   "id": "11a33a49-bed6-466c-84bd-e01f5d17167b",
   "metadata": {},
   "outputs": [],
   "source": [
    "input_size = 784\n",
    "output_size = 10\n",
    "hidden_layer_size = 150"
   ]
  },
  {
   "cell_type": "code",
   "execution_count": 104,
   "id": "834cb518-254a-433b-8106-3a215f9e9fd7",
   "metadata": {},
   "outputs": [],
   "source": [
    "model = tf.keras.Sequential([\n",
    "                                    tf.keras.layers.Flatten(input_shape = (28, 28, 1)),\n",
    "                                    tf.keras.layers.Dense(hidden_layer_size, activation = 'relu'),\n",
    "                                    tf.keras.layers.Dense(hidden_layer_size, activation = 'tanh'),\n",
    "                                    tf.keras.layers.Dense(output_size, activation = 'softmax')\n",
    "                                                            ])\n",
    "    "
   ]
  },
  {
   "cell_type": "code",
   "execution_count": null,
   "id": "929d2787-333f-4b62-91c5-925eb1855c2c",
   "metadata": {},
   "outputs": [],
   "source": []
  },
  {
   "cell_type": "code",
   "execution_count": 33,
   "id": "143a7858-f798-4219-a24b-0f5c804da816",
   "metadata": {},
   "outputs": [],
   "source": [
    "##Choose your optimizer and loss function"
   ]
  },
  {
   "cell_type": "code",
   "execution_count": 127,
   "id": "fcdfcdc6-ca74-4ab7-b505-e1a65c3b8406",
   "metadata": {},
   "outputs": [],
   "source": [
    "model.compile(optimizer = 'adam',loss = 'sparse_categorical_crossentropy', metrics = ['accuracy'])"
   ]
  },
  {
   "cell_type": "code",
   "execution_count": 35,
   "id": "ea1dfabd-e4f7-4d4b-bf8a-c3844f449331",
   "metadata": {},
   "outputs": [],
   "source": [
    "##Number of epochs"
   ]
  },
  {
   "cell_type": "code",
   "execution_count": 128,
   "id": "300a8f40-3b84-4b68-a8aa-5c0565a49d90",
   "metadata": {},
   "outputs": [],
   "source": [
    "num_of_epochs = 6"
   ]
  },
  {
   "cell_type": "code",
   "execution_count": 129,
   "id": "03da0c20-00e6-4daf-9b8b-9804f802c6f9",
   "metadata": {},
   "outputs": [
    {
     "data": {
      "text/plain": [
       "<BatchDataset element_spec=(TensorSpec(shape=(None, 28, 28, 1), dtype=tf.float32, name=None), TensorSpec(shape=(None,), dtype=tf.int64, name=None))>"
      ]
     },
     "execution_count": 129,
     "metadata": {},
     "output_type": "execute_result"
    }
   ],
   "source": [
    "train_data"
   ]
  },
  {
   "cell_type": "code",
   "execution_count": 130,
   "id": "6d6aa34f-666b-4d7a-abfe-4f369b13a265",
   "metadata": {},
   "outputs": [
    {
     "name": "stdout",
     "output_type": "stream",
     "text": [
      "Epoch 1/6\n",
      "540/540 - 10s - loss: 0.0310 - accuracy: 0.9899 - val_loss: 0.0433 - val_accuracy: 0.9865 - 10s/epoch - 18ms/step\n",
      "Epoch 2/6\n",
      "540/540 - 6s - loss: 0.0234 - accuracy: 0.9929 - val_loss: 0.0322 - val_accuracy: 0.9903 - 6s/epoch - 12ms/step\n",
      "Epoch 3/6\n",
      "540/540 - 7s - loss: 0.0196 - accuracy: 0.9938 - val_loss: 0.0313 - val_accuracy: 0.9908 - 7s/epoch - 13ms/step\n",
      "Epoch 4/6\n",
      "540/540 - 7s - loss: 0.0152 - accuracy: 0.9951 - val_loss: 0.0251 - val_accuracy: 0.9922 - 7s/epoch - 13ms/step\n",
      "Epoch 5/6\n",
      "540/540 - 8s - loss: 0.0156 - accuracy: 0.9950 - val_loss: 0.0301 - val_accuracy: 0.9915 - 8s/epoch - 15ms/step\n",
      "Epoch 6/6\n",
      "540/540 - 6s - loss: 0.0139 - accuracy: 0.9956 - val_loss: 0.0173 - val_accuracy: 0.9952 - 6s/epoch - 12ms/step\n"
     ]
    },
    {
     "data": {
      "text/plain": [
       "<keras.callbacks.History at 0x1c61f542dd0>"
      ]
     },
     "execution_count": 130,
     "metadata": {},
     "output_type": "execute_result"
    }
   ],
   "source": [
    "model.fit(train_data, epochs=num_of_epochs, validation_data = (validation_inputs,validation_targets), verbose = 2)"
   ]
  },
  {
   "cell_type": "code",
   "execution_count": 131,
   "id": "3b74187a-608a-451a-a17d-d5e7ecf2ccbc",
   "metadata": {},
   "outputs": [
    {
     "name": "stdout",
     "output_type": "stream",
     "text": [
      "1/1 [==============================] - 1s 837ms/step - loss: 0.0868 - accuracy: 0.9788\n"
     ]
    }
   ],
   "source": [
    "test_accuracy = model.evaluate(test_data)"
   ]
  },
  {
   "cell_type": "code",
   "execution_count": null,
   "id": "08d27ab9-abe8-4583-acc1-e6046d76c7dd",
   "metadata": {},
   "outputs": [],
   "source": []
  },
  {
   "cell_type": "code",
   "execution_count": null,
   "id": "4f201010-e79c-4cb3-ab43-cb12cdd05d7a",
   "metadata": {},
   "outputs": [],
   "source": []
  }
 ],
 "metadata": {
  "kernelspec": {
   "display_name": "Python 3 (ipykernel)",
   "language": "python",
   "name": "python3"
  },
  "language_info": {
   "codemirror_mode": {
    "name": "ipython",
    "version": 3
   },
   "file_extension": ".py",
   "mimetype": "text/x-python",
   "name": "python",
   "nbconvert_exporter": "python",
   "pygments_lexer": "ipython3",
   "version": "3.10.13"
  }
 },
 "nbformat": 4,
 "nbformat_minor": 5
}
